{
 "cells": [
  {
   "cell_type": "markdown",
   "source": [
    "# MOHAMED AMINE FAKHRE-EDDINE / FAHD CIHIBANI"
   ],
   "metadata": {
    "collapsed": false
   },
   "id": "507e1e4f2ac9e179"
  },
  {
   "cell_type": "markdown",
   "id": "299f587e6f9fd669",
   "metadata": {
    "collapsed": false
   },
   "source": [
    "# Ensemble de données pour la prédiction de l'insuffisance cardiaque"
   ]
  },
  {
   "cell_type": "markdown",
   "id": "6fc8549e685b0bf0",
   "metadata": {
    "collapsed": false
   },
   "source": [
    "### **Contexte**\n",
    "Les maladies cardiovasculaires (MCV) sont la première cause de décès dans le monde. On estime qu'elles font 17,9 millions de victimes chaque année, ce qui représente 31 % de l'ensemble des décès dans le monde. Quatre décès par MCV sur cinq sont dus à des crises cardiaques et à des accidents vasculaires cérébraux, et un tiers de ces décès surviennent prématurément chez des personnes âgées de moins de 70 ans. L'insuffisance cardiaque est un événement courant causé par les MCV et cet ensemble de données contient 11 caractéristiques qui peuvent être utilisées pour prédire une éventuelle maladie cardiaque.\n",
    "\n",
    "Les personnes atteintes d'une maladie cardiovasculaire ou présentant un risque cardiovasculaire élevé (en raison de la présence d'un ou plusieurs facteurs de risque tels que l'hypertension, le diabète, l'hyperlipidémie ou une maladie déjà établie) ont besoin d'une détection et d'une prise en charge précoces, pour lesquelles un modèle d'apprentissage automatique peut être d'une grande utilité."
   ]
  },
  {
   "cell_type": "markdown",
   "id": "926087867699ce66",
   "metadata": {
    "collapsed": false
   },
   "source": [
    "### **Informations sur les attributs**\n",
    "**Âge :** âge du patient [années]\n",
    "**Sex :** sexe du patient [M : homme, F : femme].\n",
    "**ChestPainType :** type de douleur thoracique [TA : angine typique, ATA : angine atypique, NAP : Douleur non angineuse, ASY : Asymptomatique]\n",
    "**RestingBP :** pression artérielle au repos [mm Hg]\n",
    "**Cholestérol :** cholestérol sérique [mm/dl]\n",
    "**FastingBS :** glycémie à jeun [1 : si FastingBS > 120 mg/dl, 0 : sinon]\n",
    "**RestingECG :** résultats de l'électrocardiogramme au repos [Normal : Normal, ST : anomalie de l'onde ST-T (inversion de l'onde T et/ou élévation ou dépression de l'onde ST de > 0,05 mV), LVH : hypertrophie ventriculaire gauche probable ou certaine selon les critères d'Estes].\n",
    "**MaxHR :** fréquence cardiaque maximale atteinte [valeur numérique comprise entre 60 et 202].\n",
    "**ExerciseAngina :** angor induit par l'exercice [Y : Oui, N : Non]\n",
    "**Oldpeak :** oldpeak = ST [Valeur numérique mesurée en dépression]\n",
    "**ST_Slope :** la pente du pic du segment ST à l'effort [Up : ascendant, Flat : plat, Down : descendant].\n",
    "**HeartDisease :** classe de sortie [1 : maladie cardiaque, 0 : normal]\n",
    "\n",
    "Cet ensemble de données a été créé en combinant différents ensembles de données déjà disponibles indépendamment mais non combinés auparavant. Dans cet ensemble de données, 5 ensembles de données cardiaques sont combinés sur 11 caractéristiques communes, ce qui en fait le plus grand ensemble de données sur les maladies cardiaques disponible à ce jour à des fins de recherche. Les cinq ensembles de données utilisés pour sa curation sont les suivants :\n",
    "\n",
    "**Cleveland :** 303 observations\n",
    "**Hongrie :** 294 observations\n",
    "**Suisse :** 123 observations\n",
    "**Long Beach VA :** 200 observations\n",
    "**Ensemble de données Stalog (cœur) :** 270 observations"
   ]
  },
  {
   "cell_type": "markdown",
   "id": "3e13bc924078b7",
   "metadata": {
    "collapsed": false
   },
   "source": [
    "Pour ce projet, nous allons utiliser l'algorithme XGBoost pour prédire la présence ou non d'une maladie cardiaque chez un patient.\n",
    "\n",
    "XGBoost est utilisé pour les questions d'apprentissage supervisé dans lesquelles nous prédisons une variable cible $y_i$ en utilisant des données d'apprentissage $x_i$ (avec de nombreuses caractéristiques). Avant d'aborder les spécificités des arbres, passons en revue les principes fondamentaux de l'apprentissage supervisé.\n",
    "\n",
    "Pour comprendre XGBoost, vous devez d'abord comprendre les idées et les méthodes d'apprentissage automatique sur lesquelles il est basé : l'apprentissage automatique supervisé, les arbres de décision, l'apprentissage d'ensemble et le gradient boosting.\n",
    "\n",
    "Les concepts que nous allons aborder ici sont fondamentaux pour l'apprentissage supervisé et servent de blocs de construction naturels pour les boîtes à outils d'apprentissage automatique. Vous devriez être en mesure de définir les différences et les similitudes entre les arbres boostés par le gradient et les forêts aléatoires, par exemple. Comprendre le processus d'une manière formalisée nous aide également à comprendre l'objectif que nous apprenons ainsi que le raisonnement derrière les heuristiques telles que l'élagage et le lissage."
   ]
  },
  {
   "cell_type": "markdown",
   "id": "d81ba0846cb9fef3",
   "metadata": {
    "collapsed": false
   },
   "source": [
    "### **Modèle et paramètres**\n",
    "Supervised learning refers to the mathematical framework used to form predictions from input data. A linear model is a popular example, with the prediction value being $\\hat{y}_i = \\sum_j \\theta_j x_{ij}$. The prediction value can have various meanings, such as logistic conversion for positive class likelihood or ranking score for output ratings. Parameters, the unknowns learned from data, are the coefficients theta in linear regression issues. The description of parameters is sloppy due to the numerous parameters in a model."
   ]
  },
  {
   "cell_type": "markdown",
   "id": "f47c466ea84d688a",
   "metadata": {
    "collapsed": false
   },
   "source": [
    "### **Fonction objective : Perte d'entraînement + régularisation**\n",
    "Les sélections prudentes de $y_i$ peuvent être utilisées pour des tâches telles que la régression, la classification et le classement. La formation d'un modèle implique de trouver les paramètres optimaux $\\theta$ pour les données de formation $x_i$ et les étiquettes $y_i$. Pour former le modèle, une fonction objective est établie, qui mesure l'adéquation du modèle aux données d'apprentissage. Les fonctions objectives se composent d'une perte d'apprentissage et d'un terme de régularisation:\n",
    "\n",
    "$\\text{obj}(\\theta) = L(\\theta) + \\Omega(\\theta)$\n",
    "\n",
    "où $L$ représente la fonction de perte d'apprentissage et $\\Omega$ représente le terme de régularisation. La perte d'apprentissage quantifie le degré de prédiction de notre modèle par rapport aux données d'apprentissage. Une option populaire pour $L$ est l'erreur quadratique moyenne, qui est donnée par :\n",
    "\n",
    "$L(\\theta) = \\sum_i (y_i-\\hat{y}_i)^2$\n",
    "\n",
    "Une autre fonction de perte couramment utilisée est la perte logistique, utilisée pour la régression logistique :\n",
    "\n",
    "$L(\\theta) = \\sum_i[ y_i\\ln (1+e^{-\\hat{y}_i}) + (1-y_i)\\ln (1+e^{\\hat{y}_i})]$\n",
    "\n",
    "L'expression \"régularisation\" est souvent négligée. Le terme de régularisation régule la complexité du modèle, ce qui permet d'éviter l'ajustement excessif."
   ]
  },
  {
   "cell_type": "markdown",
   "id": "bcc624a31c61194a",
   "metadata": {
    "collapsed": false
   },
   "source": [
    "### **Decision trees (arbres de decision)**\n",
    "L’apprentissage de l’arbre des décisions est une méthode d’enseignement supervisé qui est utilisée dans les statistiques, l’exploitation minière de données et le machine learning . Il s’agit d’une approche non paramétrique qui peut être utilisée pour la classification ainsi que pour la régression. Le but de l'utilisation d'un arbre décisionnel est d'apprendre les règles de décision de base déduites des attributs de données pour produire un modèle de formation qui peut être utilisé pour prédire la classe ou la valeur de la variable cible."
   ]
  },
  {
   "cell_type": "markdown",
   "id": "b844e5159b09b316",
   "metadata": {
    "collapsed": false
   },
   "source": [
    "### **Gradient Boosting Decision Trees (GBDT)**\n",
    "Gradient Boosting Decision Trees (GBDT) sont une approche d'apprentissage d'ensemble d'arbres de décision pour la classification et la régression qui est comparable au Random forest. Pour créer un meilleur modèle, les techniques d'apprentissage d'ensemble mélangent différentes méthodes d'apprentissage automatique.\n",
    "\n",
    "Random forest et le GBDT construisent tous deux un modèle à partir de plusieurs arbres de décision. La différence réside dans la manière dont les arbres sont construits et reliés."
   ]
  },
  {
   "cell_type": "markdown",
   "id": "72fb30026edf11f8",
   "metadata": {
    "collapsed": false
   },
   "source": [
    "Random forest construit des arbres de décision entiers en parallèle à l'aide d'échantillons bootstrap aléatoires de l'ensemble de données, selon un processus connu sous le nom de \"bagging\". La prévision finale est une moyenne pondérée de toutes les prédictions des arbres de décision. Mathématiquement, nous pouvons écrire notre modèle sous la forme suivante :\n",
    "\n",
    "$\\hat{y}_i = \\sum_{k=1}^K f_k(x_i), f_k \\in \\mathcal{F}$\n",
    "\n",
    "où $K$ est le nombre d'arbres, $f_k$ est une fonction dans l'espace fonctionnel $\\mathcal{F}$, et $\\mathcal{F}$ est l'ensemble de tous les CART possibles. La fonction objective à optimiser est donnée par la formule suivante:\n",
    "\n",
    "$\\text{obj}(\\theta) = \\sum_i^n l(y_i, \\hat{y}_i) + \\sum_{k=1}^K \\omega(f_k)$\n",
    "\n",
    "où $\\omega(f_k)$ est la complexité de l'arbre $f_k$, définie en détail plus loin."
   ]
  },
  {
   "cell_type": "markdown",
   "id": "4851e0a2312c06fb",
   "metadata": {
    "collapsed": false
   },
   "source": [
    "### **Tree Boosting**\n",
    "L'expression \"gradient boosting\" est dérivée du concept de \"boosting\" ou d'amélioration d'un modèle faible unique en le fusionnant avec un certain nombre de modèles faibles supplémentaires pour former un modèle collectivement fort. Le \"gradient boosting\" est une extension du \"boosting\" dans laquelle le processus de production additive de modèles faibles est formalisé sous la forme d'un algorithme de descente de gradient sur une fonction objective. L'amplification par gradient cible les résultats du modèle suivant afin de réduire les erreurs. Les résultats ciblés pour chaque instance sont déterminés par le gradient de l'erreur par rapport à la prédiction (d'où le nom de \"gradient boosting\").\n",
    "\n",
    "Les GBDT forment un ensemble d'arbres de décision peu profonds de manière répétée, chaque itération utilisant les résidus d'erreur du modèle précédent pour ajuster le modèle suivant. La prévision finale est la moyenne pondérée de toutes les prédictions des arbres. Le \"bagging\" des forêts aléatoires réduit la variance et le surajustement, tandis que le \"boosting\" des GBDT réduit le biais et le sous-ajustement.\n",
    "\n",
    "XGBoost est une solution de gradient boosting évolutive et très précise qui repousse les limites de la puissance de traitement pour les algorithmes d'arbres boostés. Il a été conçu principalement pour améliorer les performances des modèles d'apprentissage automatique et la vitesse de calcul. Les arbres sont construits en parallèle avec XGBoost plutôt que séquentiellement comme avec GBDT. Il utilise une technique par niveau, en balayant les valeurs de gradient et en évaluant la qualité des divisions à chaque division potentielle de l'ensemble d'apprentissage à l'aide de ces sommes partielles."
   ]
  },
  {
   "cell_type": "markdown",
   "id": "a2a7f037380fbe2b",
   "metadata": {
    "collapsed": false
   },
   "source": [
    "Maintenant que nous avons établi le modèle, passons à la formation : Comment devons-nous enseigner aux arbres ? La réponse, comme pour tout modèle d'apprentissage supervisé, consiste à créer une fonction objective et à l'optimiser !\n",
    "\n",
    "Supposons que la fonction objective soit la suivante (notez qu'elle doit toujours inclure la perte d'apprentissage et la régularisation) :\n",
    "\n",
    "$\\text{obj} = \\sum_{i=1}^n l(y_i, \\hat{y}_i^{(t)}) + \\sum_{i=1}^t\\omega(f_i)$"
   ]
  },
  {
   "cell_type": "markdown",
   "id": "dc0832e7dddf298e",
   "metadata": {
    "collapsed": false
   },
   "source": [
    "Les paramètres des arbres sont déterminés par les fonctions $f_i$, qui comprennent la structure de l'arbre et les scores des feuilles. L'apprentissage de la structure des arbres est plus difficile que les problèmes d'optimisation traditionnels. Au lieu de cela, une technique additive est employée, en ajoutant un nouvel arbre à la fois. La valeur prévisionnelle s'écrit alors $\\hat{y}_i^{(t)}$.\n",
    "\n",
    "$\\hat{y}_i^{(0)} = 0\\\\\n",
    "\n",
    "\\hat{y}_i^{(1)} = f_1(x_i) = \\hat{y}_i^{(0)} + f_1(x_i)\\\\\n",
    "\n",
    "\\hat{y}_i^{(2)} = f_1(x_i) + f_2(x_i)= \\hat{y}_i^{(1)} + f_2(x_i)\\\\\n",
    "\n",
    "\\\\\n",
    "\\dots\\\\\n",
    "\n",
    "\\hat{y}_i^{(t)} = \\sum_{k=1}^t f_k(x_i)= \\hat{y}_i^{(t-1)} + f_t(x_i)$\n",
    "\n",
    "Il faut voir quel arbre nous désirons à chaque étape. Il est naturel d'inclure celui qui permet le mieux d'atteindre notre objectif.\n",
    "\n",
    "$\\text{obj}^{(t)} = \\sum_{i=1}^n l(y_i, \\hat{y}_i^{(t)}) + \\sum_{i=1}^t\\omega(f_i) \\\\\n",
    "                = \\sum_{i=1}^n l(y_i, \\hat{y}_i^{(t-1)} + f_t(x_i)) + \\omega(f_t) + \\mathrm{constant}$\n",
    "                \n",
    "Si nous utilisons l'erreur quadratique moyenne (MSE) comme fonction de perte, l'objectif devient:\n",
    "\n",
    "$\\text{obj}^{(t)} = \\sum_{i=1}^n (y_i - (\\hat{y}_i^{(t-1)} + f_t(x_i)))^2 + \\sum_{i=1}^t\\omega(f_i) \\\\\n",
    "          = \\sum_{i=1}^n [2(\\hat{y}_i^{(t-1)} - y_i)f_t(x_i) + f_t(x_i)^2] + \\omega(f_t) + \\mathrm{constant}$\n",
    "          \n",
    "MSE a une forme agréable, avec un terme de premier ordre (communément appelé résidu) et un terme quadratique. Il est plus difficile d'obtenir une forme aussi agréable pour d'autres types de pertes intéressantes (par exemple, la perte logistique). En général, nous utilisons l'expansion de Taylor de la fonction de perte jusqu'au deuxième ordre :\n",
    "\n",
    "$\\text{obj}^{(t)} = \\sum_{i=1}^n [l(y_i, \\hat{y}_i^{(t-1)}) + g_i f_t(x_i) + \\frac{1}{2} h_i f_t^2(x_i)] + \\omega(f_t) + \\mathrm{constant}$\n",
    "\n",
    "où $g_i$ et $h_i$ sont définis comme suit :\n",
    "\n",
    "$g_i = \\partial_{\\hat{y}_i^{(t-1)}} l(y_i, \\hat{y}_i^{(t-1)})\\\\\n",
    "\n",
    "h_i = \\partial_{\\hat{y}_i^{(t-1)}}^2 l(y_i, \\hat{y}_i^{(t-1)})$\n",
    "\n",
    "Après avoir supprimé toutes les constantes, l'objectif spécifique à l'étape $t$ devient :\n",
    "\n",
    "$\\sum_{i=1}^n [g_i f_t(x_i) + \\frac{1}{2} h_i f_t^2(x_i)] + \\omega(f_t)$\n",
    "\n",
    "Cela devient l'objectif d'optimisation de notre nouvel arbre. Un avantage significatif de cette approche est que la valeur de la fonction objective est uniquement déterminée par $g_i$ et $h_i$. XGBoost autorise les fonctions de perte personnalisées de cette manière. En utilisant le même solveur qui accepte $g_i$ et $h_i$ en entrée, nous pouvons optimiser n'importe quelle fonction de perte, y compris la régression logistique et le classement par paire !"
   ]
  },
  {
   "cell_type": "markdown",
   "id": "2421cedc99ef062b",
   "metadata": {
    "collapsed": false
   },
   "source": [
    "### **Complexité du modèle**\n",
    "Nous avons couvert l'étape d'apprentissage, mais il reste un point à discuter : le terme de régularisation ! Nous devons spécifier la complexité de l'arbre, $omega(f)$. Pour commencer, révisons la définition de l'arbre $f(x)$ comme suit :\n",
    "\n",
    "$f_t(x) = w_{q(x)}, w \\in R^T, q:R^d\\rightarrow \\{1,2,\\cdots,T\\}$\n",
    "\n",
    "Ici, $w$ est le vecteur des scores sur les feuilles, $q$ est une fonction assignant chaque point de données à la feuille correspondante, et T est le nombre de feuilles. Dans XGBoost, nous définissons la complexité comme suit :\n",
    "\n",
    "$\\omega(f) = \\gamma T + \\frac{1}{2}\\lambda \\sum_{j=1}^T w_j^2$\n",
    "\n",
    "Bien entendu, il existe plusieurs façons de définir la complexité, mais celle-ci fonctionne bien dans la pratique."
   ]
  },
  {
   "cell_type": "markdown",
   "id": "5c8498acde1c160e",
   "metadata": {
    "collapsed": false
   },
   "source": [
    "### **La note de structure**\n",
    "La partie mystique de la dérivation commence ici. Nous pouvons écrire la valeur objective avec le t-ième arbre comme suit après avoir reformulé le modèle d'arbre :\n",
    "\n",
    "$\\text{obj}^{(t)} \\approx \\sum_{i=1}^n [g_i w_{q(x_i)} + \\frac{1}{2} h_i w_{q(x_i)}^2] + \\gamma T + \\frac{1}{2}\\lambda \\sum_{j=1}^T w_j^2\\\\\n",
    "= \\sum^T_{j=1} [(\\sum_{i\\in I_j} g_i) w_j + \\frac{1}{2} (\\sum_{i\\in I_j} h_i + \\lambda) w_j^2 ] + \\gamma T$\n",
    "\n",
    "où $I_j = \\{i|q(x_i)=j\\}$ est l'ensemble des indices des points de données affectés à la jème feuille. Remarquez que dans la deuxième ligne, nous avons changé l'indice de la sommation, car tous les points de données de la même feuille obtiennent le même score. Nous pourrions comprimer davantage l'expression en définissant $G_j = \\sum_{i\\in I_j} g_i$ et $H_j = \\sum_{i\\in I_j} h_i$ :\n",
    "\n",
    "$\\text{obj}^{(t)} = \\sum^T_{j=1} [G_jw_j + \\frac{1}{2} (H_j+\\lambda) w_j^2] +\\gamma T$\n",
    "\n",
    "Dans cette équation, les $w_j$ sont indépendants les uns des autres, la forme $G_jw_j+\\frac{1}{2}(H_j+\\lambda)w_j^2$ est quadratique et le meilleur $w_j$ pour une structure donnée $q(x)$ et la meilleure réduction objective que nous puissions obtenir est :\n",
    "\n",
    "$w_j^\\ast = -\\frac{G_j}{H_j+\\lambda}\\\\\n",
    "\\text{obj}^\\ast = -\\frac{1}{2} \\sum_{j=1}^T \\frac{G_j^2}{H_j+\\lambda} + \\gamma T$"
   ]
  },
  {
   "cell_type": "markdown",
   "id": "c4330ac879b0cfb3",
   "metadata": {
    "collapsed": false
   },
   "source": [
    "### **Apprendre la structure de l'arbre**\n",
    "Maintenant que nous savons comment évaluer la qualité d'un arbre, nous devrions de préférence dresser la liste de tous les arbres viables et sélectionner le meilleur. Comme cela est impossible en pratique, nous essaierons d'optimiser un niveau de l'arbre à la fois. Nous essayons de diviser une feuille en deux feuilles, et le score qu'elle reçoit est le suivant :\n",
    "\n",
    "$Gain = \\frac{1}{2} \\left[\\frac{G_L^2}{H_L+\\lambda}+\\frac{G_R^2}{H_R+\\lambda}-\\frac{(G_L+G_R)^2}{H_L+H_R+\\lambda}\\right] - \\gamma$"
   ]
  },
  {
   "cell_type": "markdown",
   "id": "8d2bcea10b05782a",
   "metadata": {
    "collapsed": false
   },
   "source": [
    "Pour plus des informations sur les arbres de décision et les arbres de décision boostés, veuillez consulter les liens suivants :\n",
    "[[https://arxiv.org/pdf/1603.02754.pdf]]\n",
    "[[https://xgboost.readthedocs.io/en/stable/tutorials/model.html]]\n",
    "[[https://medium.com/analytics-vidhya/what-makes-xgboost-so-extreme-e1544a4433bb]]\n",
    "[[https://www.nvidia.com/en-us/glossary/data-science/xgboost/]]"
   ]
  },
  {
   "cell_type": "markdown",
   "id": "157e96ee729ebde9",
   "metadata": {
    "collapsed": false
   },
   "source": [
    "# Application de l'algorithme XGBoost sur le dataset"
   ]
  },
  {
   "cell_type": "markdown",
   "id": "7b44edca18aa98be",
   "metadata": {
    "collapsed": false
   },
   "source": [
    "### Importation des librairies"
   ]
  },
  {
   "cell_type": "code",
   "execution_count": 1,
   "id": "initial_id",
   "metadata": {
    "collapsed": true,
    "jupyter": {
     "outputs_hidden": true
    },
    "ExecuteTime": {
     "end_time": "2023-12-20T16:33:20.384888300Z",
     "start_time": "2023-12-20T16:33:04.908786200Z"
    }
   },
   "outputs": [],
   "source": [
    "import pandas as pd\n",
    "import matplotlib.pyplot as plt\n",
    "from sklearn.preprocessing import LabelEncoder\n",
    "from sklearn.model_selection import train_test_split\n",
    "from sklearn import metrics\n",
    "from xgboost import XGBClassifier"
   ]
  },
  {
   "cell_type": "markdown",
   "id": "54710a8f3b7dad14",
   "metadata": {
    "collapsed": false
   },
   "source": [
    "### Importation du dataset"
   ]
  },
  {
   "cell_type": "code",
   "execution_count": 2,
   "id": "147123d2140dd7a2",
   "metadata": {
    "collapsed": false,
    "ExecuteTime": {
     "end_time": "2023-12-20T16:33:20.778127200Z",
     "start_time": "2023-12-20T16:33:20.382860900Z"
    }
   },
   "outputs": [
    {
     "data": {
      "text/plain": "   Age Sex ChestPainType  RestingBP  Cholesterol  FastingBS RestingECG  MaxHR  \\\n0   40   M           ATA        140          289          0     Normal    172   \n1   49   F           NAP        160          180          0     Normal    156   \n2   37   M           ATA        130          283          0         ST     98   \n3   48   F           ASY        138          214          0     Normal    108   \n4   54   M           NAP        150          195          0     Normal    122   \n\n  ExerciseAngina  Oldpeak ST_Slope  HeartDisease  \n0              N      0.0       Up             0  \n1              N      1.0     Flat             1  \n2              N      0.0       Up             0  \n3              Y      1.5     Flat             1  \n4              N      0.0       Up             0  ",
      "text/html": "<div>\n<style scoped>\n    .dataframe tbody tr th:only-of-type {\n        vertical-align: middle;\n    }\n\n    .dataframe tbody tr th {\n        vertical-align: top;\n    }\n\n    .dataframe thead th {\n        text-align: right;\n    }\n</style>\n<table border=\"1\" class=\"dataframe\">\n  <thead>\n    <tr style=\"text-align: right;\">\n      <th></th>\n      <th>Age</th>\n      <th>Sex</th>\n      <th>ChestPainType</th>\n      <th>RestingBP</th>\n      <th>Cholesterol</th>\n      <th>FastingBS</th>\n      <th>RestingECG</th>\n      <th>MaxHR</th>\n      <th>ExerciseAngina</th>\n      <th>Oldpeak</th>\n      <th>ST_Slope</th>\n      <th>HeartDisease</th>\n    </tr>\n  </thead>\n  <tbody>\n    <tr>\n      <th>0</th>\n      <td>40</td>\n      <td>M</td>\n      <td>ATA</td>\n      <td>140</td>\n      <td>289</td>\n      <td>0</td>\n      <td>Normal</td>\n      <td>172</td>\n      <td>N</td>\n      <td>0.0</td>\n      <td>Up</td>\n      <td>0</td>\n    </tr>\n    <tr>\n      <th>1</th>\n      <td>49</td>\n      <td>F</td>\n      <td>NAP</td>\n      <td>160</td>\n      <td>180</td>\n      <td>0</td>\n      <td>Normal</td>\n      <td>156</td>\n      <td>N</td>\n      <td>1.0</td>\n      <td>Flat</td>\n      <td>1</td>\n    </tr>\n    <tr>\n      <th>2</th>\n      <td>37</td>\n      <td>M</td>\n      <td>ATA</td>\n      <td>130</td>\n      <td>283</td>\n      <td>0</td>\n      <td>ST</td>\n      <td>98</td>\n      <td>N</td>\n      <td>0.0</td>\n      <td>Up</td>\n      <td>0</td>\n    </tr>\n    <tr>\n      <th>3</th>\n      <td>48</td>\n      <td>F</td>\n      <td>ASY</td>\n      <td>138</td>\n      <td>214</td>\n      <td>0</td>\n      <td>Normal</td>\n      <td>108</td>\n      <td>Y</td>\n      <td>1.5</td>\n      <td>Flat</td>\n      <td>1</td>\n    </tr>\n    <tr>\n      <th>4</th>\n      <td>54</td>\n      <td>M</td>\n      <td>NAP</td>\n      <td>150</td>\n      <td>195</td>\n      <td>0</td>\n      <td>Normal</td>\n      <td>122</td>\n      <td>N</td>\n      <td>0.0</td>\n      <td>Up</td>\n      <td>0</td>\n    </tr>\n  </tbody>\n</table>\n</div>"
     },
     "execution_count": 2,
     "metadata": {},
     "output_type": "execute_result"
    }
   ],
   "source": [
    "data = pd.read_csv('heart.csv')\n",
    "\n",
    "data.head()"
   ]
  },
  {
   "cell_type": "markdown",
   "id": "1dc88503272a6ff5",
   "metadata": {
    "collapsed": false
   },
   "source": [
    "### Informations sur le dataset"
   ]
  },
  {
   "cell_type": "code",
   "execution_count": 3,
   "id": "fd7b00d8c1aa97d3",
   "metadata": {
    "collapsed": false,
    "ExecuteTime": {
     "end_time": "2023-12-20T16:33:21.025785500Z",
     "start_time": "2023-12-20T16:33:20.769340100Z"
    }
   },
   "outputs": [
    {
     "name": "stdout",
     "output_type": "stream",
     "text": [
      "<class 'pandas.core.frame.DataFrame'>\n",
      "RangeIndex: 918 entries, 0 to 917\n",
      "Data columns (total 12 columns):\n",
      " #   Column          Non-Null Count  Dtype  \n",
      "---  ------          --------------  -----  \n",
      " 0   Age             918 non-null    int64  \n",
      " 1   Sex             918 non-null    object \n",
      " 2   ChestPainType   918 non-null    object \n",
      " 3   RestingBP       918 non-null    int64  \n",
      " 4   Cholesterol     918 non-null    int64  \n",
      " 5   FastingBS       918 non-null    int64  \n",
      " 6   RestingECG      918 non-null    object \n",
      " 7   MaxHR           918 non-null    int64  \n",
      " 8   ExerciseAngina  918 non-null    object \n",
      " 9   Oldpeak         918 non-null    float64\n",
      " 10  ST_Slope        918 non-null    object \n",
      " 11  HeartDisease    918 non-null    int64  \n",
      "dtypes: float64(1), int64(6), object(5)\n",
      "memory usage: 86.2+ KB\n"
     ]
    }
   ],
   "source": [
    "data.info()"
   ]
  },
  {
   "cell_type": "markdown",
   "id": "326523049593ee1a",
   "metadata": {
    "collapsed": false
   },
   "source": [
    "### Preprocessing du dataset\n",
    "**Suppression des valeurs manquantes**\n",
    "**Suppression des lignes dupliquées**\n",
    "\n",
    "Ce process est deja fait dans le dataset, mais nous allons le refaire pour la démonstration."
   ]
  },
  {
   "cell_type": "code",
   "execution_count": 4,
   "id": "3258543e3f0fae74",
   "metadata": {
    "collapsed": false,
    "ExecuteTime": {
     "end_time": "2023-12-20T16:33:21.068354700Z",
     "start_time": "2023-12-20T16:33:21.000496900Z"
    }
   },
   "outputs": [
    {
     "name": "stdout",
     "output_type": "stream",
     "text": [
      "Missing values detected:  False\n",
      "Duplicate rows detected:  False\n",
      "     Age Sex ChestPainType  RestingBP  Cholesterol  FastingBS RestingECG  \\\n",
      "0     40   M           ATA        140          289          0     Normal   \n",
      "1     49   F           NAP        160          180          0     Normal   \n",
      "2     37   M           ATA        130          283          0         ST   \n",
      "3     48   F           ASY        138          214          0     Normal   \n",
      "4     54   M           NAP        150          195          0     Normal   \n",
      "..   ...  ..           ...        ...          ...        ...        ...   \n",
      "913   45   M            TA        110          264          0     Normal   \n",
      "914   68   M           ASY        144          193          1     Normal   \n",
      "915   57   M           ASY        130          131          0     Normal   \n",
      "916   57   F           ATA        130          236          0        LVH   \n",
      "917   38   M           NAP        138          175          0     Normal   \n",
      "\n",
      "     MaxHR ExerciseAngina  Oldpeak ST_Slope  HeartDisease  \n",
      "0      172              N      0.0       Up             0  \n",
      "1      156              N      1.0     Flat             1  \n",
      "2       98              N      0.0       Up             0  \n",
      "3      108              Y      1.5     Flat             1  \n",
      "4      122              N      0.0       Up             0  \n",
      "..     ...            ...      ...      ...           ...  \n",
      "913    132              N      1.2     Flat             1  \n",
      "914    141              N      3.4     Flat             1  \n",
      "915    115              Y      1.2     Flat             1  \n",
      "916    174              N      0.0     Flat             1  \n",
      "917    173              N      0.0       Up             0  \n",
      "\n",
      "[918 rows x 12 columns]\n"
     ]
    }
   ],
   "source": [
    "missing_values = False\n",
    "duplicates = False\n",
    "\n",
    "if data.isna().values.any():\n",
    "    missing_values = True\n",
    "    data.dropna(inpLace=True)\n",
    "\n",
    "if data.duplicated().any():\n",
    "    duplicates = True\n",
    "    data.drop_duplicates(inpLace=True)\n",
    "    \n",
    "# Resume\n",
    "print(\"Missing values detected: \", missing_values)\n",
    "print(\"Duplicate rows detected: \", duplicates)\n",
    "\n",
    "print(data)"
   ]
  },
  {
   "cell_type": "markdown",
   "id": "bfa8b11041140b0a",
   "metadata": {
    "collapsed": false
   },
   "source": [
    "### Encodage des variables catégoriques\n",
    "Encodage des variables catégoriques en utilisant la fonction LabelEncoder de sklearn. Cela permet de convertir les valeurs catégoriques en valeurs numériques pour permettra à l'algorithme de mieux comprendre les données."
   ]
  },
  {
   "cell_type": "code",
   "execution_count": 5,
   "id": "a170c25959a496f3",
   "metadata": {
    "collapsed": false,
    "ExecuteTime": {
     "end_time": "2023-12-20T16:33:21.203398200Z",
     "start_time": "2023-12-20T16:33:21.028777500Z"
    }
   },
   "outputs": [
    {
     "data": {
      "text/plain": "   Age  Sex  ChestPainType  RestingBP  Cholesterol  FastingBS  RestingECG  \\\n0   40    1              1        140          289          0           1   \n1   49    0              2        160          180          0           1   \n2   37    1              1        130          283          0           2   \n3   48    0              0        138          214          0           1   \n4   54    1              2        150          195          0           1   \n\n   MaxHR  ExerciseAngina  Oldpeak  ST_Slope  HeartDisease  \n0    172               0      0.0         2             0  \n1    156               0      1.0         1             1  \n2     98               0      0.0         2             0  \n3    108               1      1.5         1             1  \n4    122               0      0.0         2             0  ",
      "text/html": "<div>\n<style scoped>\n    .dataframe tbody tr th:only-of-type {\n        vertical-align: middle;\n    }\n\n    .dataframe tbody tr th {\n        vertical-align: top;\n    }\n\n    .dataframe thead th {\n        text-align: right;\n    }\n</style>\n<table border=\"1\" class=\"dataframe\">\n  <thead>\n    <tr style=\"text-align: right;\">\n      <th></th>\n      <th>Age</th>\n      <th>Sex</th>\n      <th>ChestPainType</th>\n      <th>RestingBP</th>\n      <th>Cholesterol</th>\n      <th>FastingBS</th>\n      <th>RestingECG</th>\n      <th>MaxHR</th>\n      <th>ExerciseAngina</th>\n      <th>Oldpeak</th>\n      <th>ST_Slope</th>\n      <th>HeartDisease</th>\n    </tr>\n  </thead>\n  <tbody>\n    <tr>\n      <th>0</th>\n      <td>40</td>\n      <td>1</td>\n      <td>1</td>\n      <td>140</td>\n      <td>289</td>\n      <td>0</td>\n      <td>1</td>\n      <td>172</td>\n      <td>0</td>\n      <td>0.0</td>\n      <td>2</td>\n      <td>0</td>\n    </tr>\n    <tr>\n      <th>1</th>\n      <td>49</td>\n      <td>0</td>\n      <td>2</td>\n      <td>160</td>\n      <td>180</td>\n      <td>0</td>\n      <td>1</td>\n      <td>156</td>\n      <td>0</td>\n      <td>1.0</td>\n      <td>1</td>\n      <td>1</td>\n    </tr>\n    <tr>\n      <th>2</th>\n      <td>37</td>\n      <td>1</td>\n      <td>1</td>\n      <td>130</td>\n      <td>283</td>\n      <td>0</td>\n      <td>2</td>\n      <td>98</td>\n      <td>0</td>\n      <td>0.0</td>\n      <td>2</td>\n      <td>0</td>\n    </tr>\n    <tr>\n      <th>3</th>\n      <td>48</td>\n      <td>0</td>\n      <td>0</td>\n      <td>138</td>\n      <td>214</td>\n      <td>0</td>\n      <td>1</td>\n      <td>108</td>\n      <td>1</td>\n      <td>1.5</td>\n      <td>1</td>\n      <td>1</td>\n    </tr>\n    <tr>\n      <th>4</th>\n      <td>54</td>\n      <td>1</td>\n      <td>2</td>\n      <td>150</td>\n      <td>195</td>\n      <td>0</td>\n      <td>1</td>\n      <td>122</td>\n      <td>0</td>\n      <td>0.0</td>\n      <td>2</td>\n      <td>0</td>\n    </tr>\n  </tbody>\n</table>\n</div>"
     },
     "execution_count": 5,
     "metadata": {},
     "output_type": "execute_result"
    }
   ],
   "source": [
    "le_model = LabelEncoder()\n",
    "\n",
    "data['Sex'] = le_model.fit_transform(data['Sex'])\n",
    "data['ChestPainType'] = le_model.fit_transform(data['ChestPainType'])\n",
    "data['RestingECG'] = le_model.fit_transform(data['RestingECG'])\n",
    "data['ExerciseAngina'] = le_model.fit_transform(data['ExerciseAngina'])\n",
    "data['ST_Slope'] = le_model.fit_transform(data['ST_Slope'])\n",
    "\n",
    "data.head()"
   ]
  },
  {
   "cell_type": "markdown",
   "id": "ad3ae1660bae1bb",
   "metadata": {
    "collapsed": false
   },
   "source": [
    "### Separation des données en données caractéristiques et données cible"
   ]
  },
  {
   "cell_type": "code",
   "execution_count": 6,
   "id": "455b9c3531a85831",
   "metadata": {
    "collapsed": false,
    "ExecuteTime": {
     "end_time": "2023-12-20T16:33:21.206379400Z",
     "start_time": "2023-12-20T16:33:21.069346900Z"
    }
   },
   "outputs": [],
   "source": [
    "X = data.iloc[:, :-1]\n",
    "y = data.iloc[:, -1]"
   ]
  },
  {
   "cell_type": "markdown",
   "id": "abab5ed9439465e5",
   "metadata": {
    "collapsed": false
   },
   "source": [
    "### Separation des données en données d'entrainement et données de test"
   ]
  },
  {
   "cell_type": "code",
   "execution_count": 7,
   "id": "b8c526a0463614db",
   "metadata": {
    "collapsed": false,
    "ExecuteTime": {
     "end_time": "2023-12-20T16:33:21.275991600Z",
     "start_time": "2023-12-20T16:33:21.100398500Z"
    }
   },
   "outputs": [],
   "source": [
    "X_train, X_test, y_train, y_test = train_test_split(X, y, test_size=0.2, random_state=0, shuffle=True)"
   ]
  },
  {
   "cell_type": "markdown",
   "id": "4cd0ae171725b1a",
   "metadata": {
    "collapsed": false
   },
   "source": [
    "### Creation et entrainement du modèle\n",
    "verbose est un paramètre optionnel qui permet de voir les logs de l'entrainement du modèle.\n",
    "early_stopping_rounds est un paramètre optionnel qui permet d'arrêter l'entrainement du modèle si la performance du modèle ne s'améliore pas après un certain nombre d'itérations.\n",
    "eval_set est un paramètre optionnel qui permet de spécifier un ensemble de données de validation pour évaluer les performances du modèle."
   ]
  },
  {
   "cell_type": "code",
   "execution_count": 8,
   "id": "72ac8ce1bd6d5951",
   "metadata": {
    "collapsed": false,
    "ExecuteTime": {
     "end_time": "2023-12-20T16:33:22.707583700Z",
     "start_time": "2023-12-20T16:33:21.137764Z"
    }
   },
   "outputs": [
    {
     "name": "stdout",
     "output_type": "stream",
     "text": [
      "[0]\tvalidation_0-logloss:0.67138\n",
      "[1]\tvalidation_0-logloss:0.66053\n",
      "[2]\tvalidation_0-logloss:0.65057\n",
      "[3]\tvalidation_0-logloss:0.64052\n",
      "[4]\tvalidation_0-logloss:0.63106\n",
      "[5]\tvalidation_0-logloss:0.62196\n",
      "[6]\tvalidation_0-logloss:0.61320\n",
      "[7]\tvalidation_0-logloss:0.60461\n",
      "[8]\tvalidation_0-logloss:0.59621\n",
      "[9]\tvalidation_0-logloss:0.58839\n",
      "[10]\tvalidation_0-logloss:0.58072\n",
      "[11]\tvalidation_0-logloss:0.57321\n",
      "[12]\tvalidation_0-logloss:0.56623\n",
      "[13]\tvalidation_0-logloss:0.55976\n",
      "[14]\tvalidation_0-logloss:0.55330\n",
      "[15]\tvalidation_0-logloss:0.54727\n",
      "[16]\tvalidation_0-logloss:0.54152\n",
      "[17]\tvalidation_0-logloss:0.53596\n",
      "[18]\tvalidation_0-logloss:0.53002\n",
      "[19]\tvalidation_0-logloss:0.52539\n",
      "[20]\tvalidation_0-logloss:0.51996\n",
      "[21]\tvalidation_0-logloss:0.51485\n",
      "[22]\tvalidation_0-logloss:0.51034\n"
     ]
    },
    {
     "name": "stderr",
     "output_type": "stream",
     "text": [
      "D:\\FST\\MST - AIDS\\S1\\INTELLIGENT REASONING SYSTEMS & THEORIES\\PROJECTS\\.venv\\Lib\\site-packages\\xgboost\\sklearn.py:885: UserWarning: `early_stopping_rounds` in `fit` method is deprecated for better compatibility with scikit-learn, use `early_stopping_rounds` in constructor or`set_params` instead.\n",
      "  warnings.warn(\n"
     ]
    },
    {
     "name": "stdout",
     "output_type": "stream",
     "text": [
      "[23]\tvalidation_0-logloss:0.50581\n",
      "[24]\tvalidation_0-logloss:0.50178\n",
      "[25]\tvalidation_0-logloss:0.49808\n",
      "[26]\tvalidation_0-logloss:0.49434\n",
      "[27]\tvalidation_0-logloss:0.49070\n",
      "[28]\tvalidation_0-logloss:0.48717\n",
      "[29]\tvalidation_0-logloss:0.48375\n",
      "[30]\tvalidation_0-logloss:0.48052\n",
      "[31]\tvalidation_0-logloss:0.47763\n",
      "[32]\tvalidation_0-logloss:0.47412\n",
      "[33]\tvalidation_0-logloss:0.47116\n",
      "[34]\tvalidation_0-logloss:0.46790\n",
      "[35]\tvalidation_0-logloss:0.46521\n",
      "[36]\tvalidation_0-logloss:0.46248\n",
      "[37]\tvalidation_0-logloss:0.45988\n",
      "[38]\tvalidation_0-logloss:0.45722\n",
      "[39]\tvalidation_0-logloss:0.45460\n",
      "[40]\tvalidation_0-logloss:0.45193\n",
      "[41]\tvalidation_0-logloss:0.44892\n",
      "[42]\tvalidation_0-logloss:0.44650\n",
      "[43]\tvalidation_0-logloss:0.44409\n",
      "[44]\tvalidation_0-logloss:0.44146\n",
      "[45]\tvalidation_0-logloss:0.43920\n",
      "[46]\tvalidation_0-logloss:0.43770\n",
      "[47]\tvalidation_0-logloss:0.43568\n",
      "[48]\tvalidation_0-logloss:0.43363\n",
      "[49]\tvalidation_0-logloss:0.43116\n",
      "[50]\tvalidation_0-logloss:0.42959\n",
      "[51]\tvalidation_0-logloss:0.42724\n",
      "[52]\tvalidation_0-logloss:0.42537\n",
      "[53]\tvalidation_0-logloss:0.42362\n",
      "[54]\tvalidation_0-logloss:0.42145\n",
      "[55]\tvalidation_0-logloss:0.41950\n",
      "[56]\tvalidation_0-logloss:0.41769\n",
      "[57]\tvalidation_0-logloss:0.41600\n",
      "[58]\tvalidation_0-logloss:0.41436\n",
      "[59]\tvalidation_0-logloss:0.41232\n",
      "[60]\tvalidation_0-logloss:0.41115\n",
      "[61]\tvalidation_0-logloss:0.40944\n",
      "[62]\tvalidation_0-logloss:0.40816\n",
      "[63]\tvalidation_0-logloss:0.40632\n",
      "[64]\tvalidation_0-logloss:0.40488\n",
      "[65]\tvalidation_0-logloss:0.40330\n",
      "[66]\tvalidation_0-logloss:0.40181\n",
      "[67]\tvalidation_0-logloss:0.40055\n",
      "[68]\tvalidation_0-logloss:0.39953\n",
      "[69]\tvalidation_0-logloss:0.39828\n",
      "[70]\tvalidation_0-logloss:0.39678\n",
      "[71]\tvalidation_0-logloss:0.39562\n",
      "[72]\tvalidation_0-logloss:0.39463\n",
      "[73]\tvalidation_0-logloss:0.39339\n",
      "[74]\tvalidation_0-logloss:0.39204\n",
      "[75]\tvalidation_0-logloss:0.39156\n",
      "[76]\tvalidation_0-logloss:0.39097\n",
      "[77]\tvalidation_0-logloss:0.38950\n",
      "[78]\tvalidation_0-logloss:0.38848\n",
      "[79]\tvalidation_0-logloss:0.38790\n",
      "[80]\tvalidation_0-logloss:0.38752\n",
      "[81]\tvalidation_0-logloss:0.38675\n",
      "[82]\tvalidation_0-logloss:0.38592\n",
      "[83]\tvalidation_0-logloss:0.38518\n",
      "[84]\tvalidation_0-logloss:0.38374\n",
      "[85]\tvalidation_0-logloss:0.38342\n",
      "[86]\tvalidation_0-logloss:0.38293\n",
      "[87]\tvalidation_0-logloss:0.38234\n",
      "[88]\tvalidation_0-logloss:0.38109\n",
      "[89]\tvalidation_0-logloss:0.38032\n",
      "[90]\tvalidation_0-logloss:0.37976\n",
      "[91]\tvalidation_0-logloss:0.37862\n",
      "[92]\tvalidation_0-logloss:0.37824\n",
      "[93]\tvalidation_0-logloss:0.37723\n",
      "[94]\tvalidation_0-logloss:0.37708\n",
      "[95]\tvalidation_0-logloss:0.37596\n",
      "[96]\tvalidation_0-logloss:0.37515\n",
      "[97]\tvalidation_0-logloss:0.37452\n",
      "[98]\tvalidation_0-logloss:0.37412\n",
      "[99]\tvalidation_0-logloss:0.37362\n",
      "[100]\tvalidation_0-logloss:0.37312\n",
      "[101]\tvalidation_0-logloss:0.37287\n",
      "[102]\tvalidation_0-logloss:0.37231\n",
      "[103]\tvalidation_0-logloss:0.37196\n",
      "[104]\tvalidation_0-logloss:0.37125\n",
      "[105]\tvalidation_0-logloss:0.37051\n",
      "[106]\tvalidation_0-logloss:0.37066\n",
      "[107]\tvalidation_0-logloss:0.37034\n",
      "[108]\tvalidation_0-logloss:0.36962\n",
      "[109]\tvalidation_0-logloss:0.36926\n",
      "[110]\tvalidation_0-logloss:0.36869\n",
      "[111]\tvalidation_0-logloss:0.36819\n",
      "[112]\tvalidation_0-logloss:0.36784\n",
      "[113]\tvalidation_0-logloss:0.36723\n",
      "[114]\tvalidation_0-logloss:0.36686\n",
      "[115]\tvalidation_0-logloss:0.36658\n",
      "[116]\tvalidation_0-logloss:0.36601\n",
      "[117]\tvalidation_0-logloss:0.36561\n",
      "[118]\tvalidation_0-logloss:0.36537\n",
      "[119]\tvalidation_0-logloss:0.36473\n",
      "[120]\tvalidation_0-logloss:0.36442\n",
      "[121]\tvalidation_0-logloss:0.36389\n",
      "[122]\tvalidation_0-logloss:0.36347\n",
      "[123]\tvalidation_0-logloss:0.36289\n",
      "[124]\tvalidation_0-logloss:0.36251\n",
      "[125]\tvalidation_0-logloss:0.36193\n",
      "[126]\tvalidation_0-logloss:0.36141\n",
      "[127]\tvalidation_0-logloss:0.36084\n",
      "[128]\tvalidation_0-logloss:0.36056\n",
      "[129]\tvalidation_0-logloss:0.36004\n",
      "[130]\tvalidation_0-logloss:0.35980\n",
      "[131]\tvalidation_0-logloss:0.35958\n",
      "[132]\tvalidation_0-logloss:0.35900\n",
      "[133]\tvalidation_0-logloss:0.35847\n",
      "[134]\tvalidation_0-logloss:0.35807\n",
      "[135]\tvalidation_0-logloss:0.35749\n",
      "[136]\tvalidation_0-logloss:0.35732\n",
      "[137]\tvalidation_0-logloss:0.35677\n",
      "[138]\tvalidation_0-logloss:0.35621\n",
      "[139]\tvalidation_0-logloss:0.35614\n",
      "[140]\tvalidation_0-logloss:0.35611\n",
      "[141]\tvalidation_0-logloss:0.35561\n",
      "[142]\tvalidation_0-logloss:0.35558\n",
      "[143]\tvalidation_0-logloss:0.35528\n",
      "[144]\tvalidation_0-logloss:0.35500\n",
      "[145]\tvalidation_0-logloss:0.35495\n",
      "[146]\tvalidation_0-logloss:0.35495\n",
      "[147]\tvalidation_0-logloss:0.35496\n",
      "[148]\tvalidation_0-logloss:0.35463\n",
      "[149]\tvalidation_0-logloss:0.35464\n",
      "[150]\tvalidation_0-logloss:0.35429\n",
      "[151]\tvalidation_0-logloss:0.35398\n",
      "[152]\tvalidation_0-logloss:0.35399\n",
      "[153]\tvalidation_0-logloss:0.35358\n",
      "[154]\tvalidation_0-logloss:0.35355\n",
      "[155]\tvalidation_0-logloss:0.35322\n",
      "[156]\tvalidation_0-logloss:0.35283\n",
      "[157]\tvalidation_0-logloss:0.35277\n",
      "[158]\tvalidation_0-logloss:0.35247\n",
      "[159]\tvalidation_0-logloss:0.35249\n",
      "[160]\tvalidation_0-logloss:0.35211\n",
      "[161]\tvalidation_0-logloss:0.35196\n",
      "[162]\tvalidation_0-logloss:0.35175\n",
      "[163]\tvalidation_0-logloss:0.35181\n",
      "[164]\tvalidation_0-logloss:0.35136\n",
      "[165]\tvalidation_0-logloss:0.35159\n",
      "[166]\tvalidation_0-logloss:0.35167\n",
      "[167]\tvalidation_0-logloss:0.35199\n",
      "[168]\tvalidation_0-logloss:0.35132\n",
      "[169]\tvalidation_0-logloss:0.35125\n",
      "[170]\tvalidation_0-logloss:0.35064\n",
      "[171]\tvalidation_0-logloss:0.35059\n",
      "[172]\tvalidation_0-logloss:0.35077\n",
      "[173]\tvalidation_0-logloss:0.35009\n",
      "[174]\tvalidation_0-logloss:0.35006\n",
      "[175]\tvalidation_0-logloss:0.34947\n",
      "[176]\tvalidation_0-logloss:0.34950\n",
      "[177]\tvalidation_0-logloss:0.34907\n",
      "[178]\tvalidation_0-logloss:0.34897\n",
      "[179]\tvalidation_0-logloss:0.34905\n",
      "[180]\tvalidation_0-logloss:0.34856\n",
      "[181]\tvalidation_0-logloss:0.34856\n",
      "[182]\tvalidation_0-logloss:0.34822\n",
      "[183]\tvalidation_0-logloss:0.34822\n",
      "[184]\tvalidation_0-logloss:0.34831\n",
      "[185]\tvalidation_0-logloss:0.34865\n",
      "[186]\tvalidation_0-logloss:0.34862\n",
      "[187]\tvalidation_0-logloss:0.34816\n",
      "[188]\tvalidation_0-logloss:0.34819\n",
      "[189]\tvalidation_0-logloss:0.34806\n",
      "[190]\tvalidation_0-logloss:0.34813\n",
      "[191]\tvalidation_0-logloss:0.34824\n",
      "[192]\tvalidation_0-logloss:0.34772\n",
      "[193]\tvalidation_0-logloss:0.34792\n",
      "[194]\tvalidation_0-logloss:0.34806\n",
      "[195]\tvalidation_0-logloss:0.34854\n",
      "[196]\tvalidation_0-logloss:0.34853\n",
      "[197]\tvalidation_0-logloss:0.34837\n"
     ]
    },
    {
     "data": {
      "text/plain": "XGBClassifier(base_score=None, booster=None, callbacks=None,\n              colsample_bylevel=None, colsample_bynode=None,\n              colsample_bytree=None, device=None, early_stopping_rounds=None,\n              enable_categorical=False, eval_metric=None, feature_types=None,\n              gamma=None, grow_policy=None, importance_type=None,\n              interaction_constraints=None, learning_rate=0.02, max_bin=None,\n              max_cat_threshold=None, max_cat_to_onehot=None,\n              max_delta_step=None, max_depth=None, max_leaves=None,\n              min_child_weight=None, missing=nan, monotone_constraints=None,\n              multi_strategy=None, n_estimators=1000, n_jobs=None,\n              num_parallel_tree=None, random_state=None, ...)",
      "text/html": "<style>#sk-container-id-1 {color: black;}#sk-container-id-1 pre{padding: 0;}#sk-container-id-1 div.sk-toggleable {background-color: white;}#sk-container-id-1 label.sk-toggleable__label {cursor: pointer;display: block;width: 100%;margin-bottom: 0;padding: 0.3em;box-sizing: border-box;text-align: center;}#sk-container-id-1 label.sk-toggleable__label-arrow:before {content: \"▸\";float: left;margin-right: 0.25em;color: #696969;}#sk-container-id-1 label.sk-toggleable__label-arrow:hover:before {color: black;}#sk-container-id-1 div.sk-estimator:hover label.sk-toggleable__label-arrow:before {color: black;}#sk-container-id-1 div.sk-toggleable__content {max-height: 0;max-width: 0;overflow: hidden;text-align: left;background-color: #f0f8ff;}#sk-container-id-1 div.sk-toggleable__content pre {margin: 0.2em;color: black;border-radius: 0.25em;background-color: #f0f8ff;}#sk-container-id-1 input.sk-toggleable__control:checked~div.sk-toggleable__content {max-height: 200px;max-width: 100%;overflow: auto;}#sk-container-id-1 input.sk-toggleable__control:checked~label.sk-toggleable__label-arrow:before {content: \"▾\";}#sk-container-id-1 div.sk-estimator input.sk-toggleable__control:checked~label.sk-toggleable__label {background-color: #d4ebff;}#sk-container-id-1 div.sk-label input.sk-toggleable__control:checked~label.sk-toggleable__label {background-color: #d4ebff;}#sk-container-id-1 input.sk-hidden--visually {border: 0;clip: rect(1px 1px 1px 1px);clip: rect(1px, 1px, 1px, 1px);height: 1px;margin: -1px;overflow: hidden;padding: 0;position: absolute;width: 1px;}#sk-container-id-1 div.sk-estimator {font-family: monospace;background-color: #f0f8ff;border: 1px dotted black;border-radius: 0.25em;box-sizing: border-box;margin-bottom: 0.5em;}#sk-container-id-1 div.sk-estimator:hover {background-color: #d4ebff;}#sk-container-id-1 div.sk-parallel-item::after {content: \"\";width: 100%;border-bottom: 1px solid gray;flex-grow: 1;}#sk-container-id-1 div.sk-label:hover label.sk-toggleable__label {background-color: #d4ebff;}#sk-container-id-1 div.sk-serial::before {content: \"\";position: absolute;border-left: 1px solid gray;box-sizing: border-box;top: 0;bottom: 0;left: 50%;z-index: 0;}#sk-container-id-1 div.sk-serial {display: flex;flex-direction: column;align-items: center;background-color: white;padding-right: 0.2em;padding-left: 0.2em;position: relative;}#sk-container-id-1 div.sk-item {position: relative;z-index: 1;}#sk-container-id-1 div.sk-parallel {display: flex;align-items: stretch;justify-content: center;background-color: white;position: relative;}#sk-container-id-1 div.sk-item::before, #sk-container-id-1 div.sk-parallel-item::before {content: \"\";position: absolute;border-left: 1px solid gray;box-sizing: border-box;top: 0;bottom: 0;left: 50%;z-index: -1;}#sk-container-id-1 div.sk-parallel-item {display: flex;flex-direction: column;z-index: 1;position: relative;background-color: white;}#sk-container-id-1 div.sk-parallel-item:first-child::after {align-self: flex-end;width: 50%;}#sk-container-id-1 div.sk-parallel-item:last-child::after {align-self: flex-start;width: 50%;}#sk-container-id-1 div.sk-parallel-item:only-child::after {width: 0;}#sk-container-id-1 div.sk-dashed-wrapped {border: 1px dashed gray;margin: 0 0.4em 0.5em 0.4em;box-sizing: border-box;padding-bottom: 0.4em;background-color: white;}#sk-container-id-1 div.sk-label label {font-family: monospace;font-weight: bold;display: inline-block;line-height: 1.2em;}#sk-container-id-1 div.sk-label-container {text-align: center;}#sk-container-id-1 div.sk-container {/* jupyter's `normalize.less` sets `[hidden] { display: none; }` but bootstrap.min.css set `[hidden] { display: none !important; }` so we also need the `!important` here to be able to override the default hidden behavior on the sphinx rendered scikit-learn.org. See: https://github.com/scikit-learn/scikit-learn/issues/21755 */display: inline-block !important;position: relative;}#sk-container-id-1 div.sk-text-repr-fallback {display: none;}</style><div id=\"sk-container-id-1\" class=\"sk-top-container\"><div class=\"sk-text-repr-fallback\"><pre>XGBClassifier(base_score=None, booster=None, callbacks=None,\n              colsample_bylevel=None, colsample_bynode=None,\n              colsample_bytree=None, device=None, early_stopping_rounds=None,\n              enable_categorical=False, eval_metric=None, feature_types=None,\n              gamma=None, grow_policy=None, importance_type=None,\n              interaction_constraints=None, learning_rate=0.02, max_bin=None,\n              max_cat_threshold=None, max_cat_to_onehot=None,\n              max_delta_step=None, max_depth=None, max_leaves=None,\n              min_child_weight=None, missing=nan, monotone_constraints=None,\n              multi_strategy=None, n_estimators=1000, n_jobs=None,\n              num_parallel_tree=None, random_state=None, ...)</pre><b>In a Jupyter environment, please rerun this cell to show the HTML representation or trust the notebook. <br />On GitHub, the HTML representation is unable to render, please try loading this page with nbviewer.org.</b></div><div class=\"sk-container\" hidden><div class=\"sk-item\"><div class=\"sk-estimator sk-toggleable\"><input class=\"sk-toggleable__control sk-hidden--visually\" id=\"sk-estimator-id-1\" type=\"checkbox\" checked><label for=\"sk-estimator-id-1\" class=\"sk-toggleable__label sk-toggleable__label-arrow\">XGBClassifier</label><div class=\"sk-toggleable__content\"><pre>XGBClassifier(base_score=None, booster=None, callbacks=None,\n              colsample_bylevel=None, colsample_bynode=None,\n              colsample_bytree=None, device=None, early_stopping_rounds=None,\n              enable_categorical=False, eval_metric=None, feature_types=None,\n              gamma=None, grow_policy=None, importance_type=None,\n              interaction_constraints=None, learning_rate=0.02, max_bin=None,\n              max_cat_threshold=None, max_cat_to_onehot=None,\n              max_delta_step=None, max_depth=None, max_leaves=None,\n              min_child_weight=None, missing=nan, monotone_constraints=None,\n              multi_strategy=None, n_estimators=1000, n_jobs=None,\n              num_parallel_tree=None, random_state=None, ...)</pre></div></div></div></div></div>"
     },
     "execution_count": 8,
     "metadata": {},
     "output_type": "execute_result"
    }
   ],
   "source": [
    "model = XGBClassifier(n_estimators=1000, learning_rate=0.02)\n",
    "model.fit(X_train, y_train, verbose=True, early_stopping_rounds=5, eval_set=[(X_test, y_test)])"
   ]
  },
  {
   "cell_type": "markdown",
   "id": "24dac76d6a9141d6",
   "metadata": {
    "collapsed": false
   },
   "source": [
    "### Evaluation du modèle"
   ]
  },
  {
   "cell_type": "code",
   "execution_count": 9,
   "id": "a641b55b093548a6",
   "metadata": {
    "collapsed": false,
    "ExecuteTime": {
     "end_time": "2023-12-20T16:33:22.711162500Z",
     "start_time": "2023-12-20T16:33:22.391513300Z"
    }
   },
   "outputs": [
    {
     "name": "stdout",
     "output_type": "stream",
     "text": [
      "Number of mislabeled points out of a total 184 points : 26\n"
     ]
    }
   ],
   "source": [
    "y_pred = model.predict(X_test)\n",
    "\n",
    "pred_len = len(y_pred)\n",
    "\n",
    "print(\"Number of mislabeled points out of a total %d points : %d\" % (X_test.shape[0], (y_test != y_pred).sum()))"
   ]
  },
  {
   "cell_type": "markdown",
   "id": "e17c10d0fc679179",
   "metadata": {
    "collapsed": false
   },
   "source": [
    "### Matrice de confusion"
   ]
  },
  {
   "cell_type": "code",
   "execution_count": 10,
   "id": "deb09a7d13706b9f",
   "metadata": {
    "collapsed": false,
    "ExecuteTime": {
     "end_time": "2023-12-20T16:33:22.716652700Z",
     "start_time": "2023-12-20T16:33:22.409656300Z"
    }
   },
   "outputs": [
    {
     "data": {
      "text/plain": "array([[62, 15],\n       [11, 96]], dtype=int64)"
     },
     "execution_count": 10,
     "metadata": {},
     "output_type": "execute_result"
    }
   ],
   "source": [
    "cm = metrics.confusion_matrix(y_test, y_pred)\n",
    "\n",
    "cm"
   ]
  },
  {
   "cell_type": "markdown",
   "id": "67781f740e5d2c6b",
   "metadata": {
    "collapsed": false
   },
   "source": [
    "### Visualisation de la matrice de confusion"
   ]
  },
  {
   "cell_type": "code",
   "execution_count": 11,
   "id": "28b734942ceba373",
   "metadata": {
    "collapsed": false,
    "ExecuteTime": {
     "end_time": "2023-12-20T16:33:23.478341800Z",
     "start_time": "2023-12-20T16:33:22.493803900Z"
    }
   },
   "outputs": [
    {
     "data": {
      "text/plain": "<Figure size 640x480 with 2 Axes>",
      "image/png": "[encoded data removed]"
     },
     "metadata": {},
     "output_type": "display_data"
    }
   ],
   "source": [
    "disp = metrics.ConfusionMatrixDisplay(confusion_matrix=cm, display_labels=[-1, 1])\n",
    "disp.plot()\n",
    "\n",
    "plt.show()"
   ]
  },
  {
   "cell_type": "markdown",
   "id": "9da30d4967b131b4",
   "metadata": {
    "collapsed": false
   },
   "source": [
    "### Evaluation des performances du modèle\n",
    "Balanced Error Rate (BER) est une mesure de performance qui est utilisée pour évaluer les modèles de classification binaire.\n",
    "Accuracy signifie le nombre de prédictions correctes faites par le modèle sur toutes les prédictions.\n",
    "Precision est la proportion de prédictions positives qui sont correctes.\n",
    "Recall est la proportion de vrais positifs qui sont correctement identifiés.\n",
    "F1 Score est la moyenne harmonique de la précision et du rappel.\n",
    "AUC Score est la mesure de la capacité d'un modèle à distinguer entre les classes positives et négatives.\n",
    "La courbe ROC est une courbe de probabilité qui trace le taux de vrais positifs en fonction du taux de faux positifs."
   ]
  },
  {
   "cell_type": "code",
   "execution_count": 12,
   "id": "66c7f003735754d1",
   "metadata": {
    "collapsed": false,
    "ExecuteTime": {
     "end_time": "2023-12-20T16:33:23.652156Z",
     "start_time": "2023-12-20T16:33:23.478341800Z"
    }
   },
   "outputs": [
    {
     "name": "stdout",
     "output_type": "stream",
     "text": [
      "Balanced Error Rate:  0.14291003332099228\n",
      "Accuracy:             0.8586956521739131\n",
      "Precision:            0.8570899666790077\n",
      "Recall:               0.8511955334385242\n",
      "F1 Score:             0.8537003058103976\n",
      "AUC Score:            0.8511955334385242\n"
     ]
    }
   ],
   "source": [
    "TP = cm[0][0]\n",
    "FP = cm[0][1]\n",
    "FN = cm[1][0]\n",
    "TN = cm[1][1]\n",
    "\n",
    "BER = 1 - (1/2 * ((TP / (TP + FN)) + (TN / (TN + FP))))\n",
    "\n",
    "precision = metrics.precision_score(y_test, y_pred, average='macro')\n",
    "\n",
    "recall = metrics.recall_score(y_test, y_pred, average='macro')\n",
    "\n",
    "f1_score = metrics.f1_score(y_test, y_pred, average='macro')\n",
    "\n",
    "accuracy = metrics.accuracy_score(y_test, y_pred)\n",
    "\n",
    "auc_score = metrics.roc_auc_score(y_test, y_pred)\n",
    "\n",
    "print('Balanced Error Rate: ', BER)\n",
    "print('Accuracy:            ', accuracy)\n",
    "print('Precision:           ', precision)\n",
    "print('Recall:              ', recall)\n",
    "print('F1 Score:            ', f1_score)\n",
    "print('AUC Score:           ', auc_score)"
   ]
  },
  {
   "cell_type": "markdown",
   "id": "38653ba48aa1ae68",
   "metadata": {
    "collapsed": false
   },
   "source": [
    "### Courbe ROC"
   ]
  },
  {
   "cell_type": "code",
   "execution_count": 13,
   "id": "dd12e77e84050907",
   "metadata": {
    "collapsed": false,
    "ExecuteTime": {
     "end_time": "2023-12-20T16:33:23.915365100Z",
     "start_time": "2023-12-20T16:33:23.545163800Z"
    }
   },
   "outputs": [
    {
     "data": {
      "text/plain": "<Figure size 640x480 with 1 Axes>",
      "image/png": "[encoded data removed]"
     },
     "metadata": {},
     "output_type": "display_data"
    }
   ],
   "source": [
    "fpr, tpr, thresh = metrics.roc_curve(y_test, y_pred, pos_label=1)\n",
    "\n",
    "# plot roc curves\n",
    "plt.plot(fpr, tpr, linestyle='--',color='orange', label='Extreme Gradient Boosting (XGBoost)')\n",
    "# title\n",
    "plt.title('ROC curve')\n",
    "# x label\n",
    "plt.xlabel('False Positive Rate')\n",
    "# y label\n",
    "plt.ylabel('True Positive rate')\n",
    "\n",
    "plt.legend(loc='best')\n",
    "plt.show();"
   ]
  },
  {
   "cell_type": "markdown",
   "id": "da4813d45e051d59",
   "metadata": {
    "collapsed": false
   },
   "source": [
    "# References:\n",
    "Introduction to Boosted Trees — xgboost 2.0.2 documentation. https://xgboost.readthedocs.io/en/stable/tutorials/model.html\n",
    "\n",
    "Chen T, Guestrin C, University of Washington. XGBoost: A Scalable Tree Boosting System. 3rd ed.; 2016. https://arxiv.org/pdf/1603.02754.pdf\n",
    "\n",
    "Keany E. What makes “XGBoost” so Extreme? - Analytics Vidhya - Medium. Medium. https://medium.com/analytics-vidhya/what-makes-xgboost-so-extreme-e1544a4433bb. Published December 13, 2021.\n",
    "\n",
    "Brownlee J. A gentle introduction to the gradient boosting algorithm for machine learning. MachineLearningMastery.com. Published August 14, 2020. https://machinelearningmastery.com/gentle-introduction-gradient-boosting-algorithm-machine-learning\n",
    "\n",
    "Zopluoglu C. Cengiz Zopluoglu: How does Extreme Gradient Boosting (XGBOOST) work? Cengiz Zopluoglu. Published January 15, 2019. https://cengiz.me/posts/extreme-gradient-boosting\n",
    "\n",
    "What is XGBoost? NVIDIA Data Science Glossary. https://www.nvidia.com/en-us/glossary/data-science/xgboost\n",
    "\n",
    "Medium. https://towardsdatascience.com/naive-bayes-classifier-81d512f50a7\n",
    "\n",
    "Ar. Basics of Feature Selection with Python. Kaggle. Published October 31, 2020. https://www.kaggle.com/code/ar2017/basics-of-feature-selection-with-python\n",
    "\n",
    "Bbloggsbott. Feature selection - correlation and P-value. Kaggle. Published April 25, 2022. https://www.kaggle.com/code/bbloggsbott/feature-selection-correlation-and-p-value\n",
    "\n",
    "Heart Failure Prediction Dataset. Kaggle. Published September 10, 2021. https://www.kaggle.com/datasets/fedesoriano/heart-failure-prediction"
   ]
  },
  {
   "cell_type": "code",
   "execution_count": 13,
   "outputs": [],
   "source": [],
   "metadata": {
    "collapsed": false,
    "ExecuteTime": {
     "end_time": "2023-12-20T16:33:23.917472600Z",
     "start_time": "2023-12-20T16:33:23.910908500Z"
    }
   },
   "id": "c2b2b33c80a4a337"
  }
 ],
 "metadata": {
  "kernelspec": {
   "display_name": "Python 3 (ipykernel)",
   "language": "python",
   "name": "python3"
  },
  "language_info": {
   "codemirror_mode": {
    "name": "ipython",
    "version": 3
   },
   "file_extension": ".py",
   "mimetype": "text/x-python",
   "name": "python",
   "nbconvert_exporter": "python",
   "pygments_lexer": "ipython3",
   "version": "3.11.0"
  }
 },
 "nbformat": 4,
 "nbformat_minor": 5
}
